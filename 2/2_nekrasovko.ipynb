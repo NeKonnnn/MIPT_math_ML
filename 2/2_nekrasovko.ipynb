{
 "cells": [
  {
   "cell_type": "code",
   "execution_count": 1,
   "metadata": {},
   "outputs": [
    {
     "name": "stderr",
     "output_type": "stream",
     "text": [
      "E:\\anaconda\\lib\\site-packages\\seaborn\\distributions.py:2619: FutureWarning: `distplot` is a deprecated function and will be removed in a future version. Please adapt your code to use either `displot` (a figure-level function with similar flexibility) or `kdeplot` (an axes-level function for kernel density plots).\n",
      "  warnings.warn(msg, FutureWarning)\n"
     ]
    },
    {
     "data": {
      "image/png": "[encoded data removed]",
      "text/plain": [
       "<Figure size 432x288 with 1 Axes>"
      ]
     },
     "metadata": {
      "needs_background": "light"
     },
     "output_type": "display_data"
    }
   ],
   "source": [
    "from numpy import random\n",
    "import numpy as np\n",
    "import pandas as pd\n",
    "import matplotlib.pyplot as plt\n",
    "import seaborn as sns\n",
    "import math\n",
    "\n",
    "random_array = random.normal(size=1000)\n",
    "sns.distplot(random_array, hist=False)\n",
    "\n",
    "plt.show() "
   ]
  },
  {
   "cell_type": "code",
   "execution_count": 2,
   "metadata": {},
   "outputs": [],
   "source": [
    "series = pd.Series(random_array)"
   ]
  },
  {
   "cell_type": "markdown",
   "metadata": {},
   "source": [
    "Перед вами нормально-распределенный массив сконвертированный в Pandas Series. Необходимо расчитать следующие статистики для массива (series), используя только собственно-написанные формулы:\n",
    "* среднее значение \n",
    "* медиану \n",
    "* стандартное отклонение\n",
    "* межквартильный размах\n",
    "* 23-й перцентиль\n"
   ]
  },
  {
   "cell_type": "code",
   "execution_count": 3,
   "metadata": {
    "scrolled": true
   },
   "outputs": [
    {
     "data": {
      "text/plain": [
       "0      0.749756\n",
       "1     -1.891696\n",
       "2     -0.346793\n",
       "3      1.669909\n",
       "4      1.459494\n",
       "         ...   \n",
       "995   -0.671254\n",
       "996   -0.890909\n",
       "997    1.603165\n",
       "998   -1.291389\n",
       "999    0.959124\n",
       "Length: 1000, dtype: float64"
      ]
     },
     "execution_count": 3,
     "metadata": {},
     "output_type": "execute_result"
    }
   ],
   "source": [
    "series"
   ]
  },
  {
   "cell_type": "markdown",
   "metadata": {},
   "source": [
    "## Среднее значение\n",
    "\n",
    "Пусть дана выборка $Х = (x_1, x_2,..., x_n)$\n",
    " из значений одномерной случайной величины. Одной из наиболее естественных статистик таких выборок является **среднее арифметическое** (или **выборочное среднее**). Оно обозначается как $\\overline{X}$: $$\\overline{X} = \\dfrac{1}{n} \\displaystyle\\sum_{i = 1}^n x_i$$\n",
    " \n",
    "\n",
    "Выборочное среднее является **оценкой** для математического ожидания. Это означает, что, как правило, чем больше элементов в выборке, тем ближе выборочное среднее этой выборки к математическому ожиданию соответствующей случайной величины."
   ]
  },
  {
   "cell_type": "code",
   "execution_count": 4,
   "metadata": {},
   "outputs": [],
   "source": [
    "#функция среднего значения\n",
    "def meanz(series):\n",
    "    s = 0 \n",
    "    for number in series:\n",
    "        s += number\n",
    "    return s / series.size"
   ]
  },
  {
   "cell_type": "code",
   "execution_count": 5,
   "metadata": {},
   "outputs": [
    {
     "data": {
      "text/plain": [
       "-0.0038253151122978205"
      ]
     },
     "execution_count": 5,
     "metadata": {},
     "output_type": "execute_result"
    }
   ],
   "source": [
    "meanz(series)"
   ]
  },
  {
   "cell_type": "code",
   "execution_count": 6,
   "metadata": {},
   "outputs": [
    {
     "data": {
      "text/plain": [
       "-0.0038253151122978205"
      ]
     },
     "execution_count": 6,
     "metadata": {},
     "output_type": "execute_result"
    }
   ],
   "source": [
    "#проверка написанной функции на встроенной .mean()\n",
    "series.mean()"
   ]
  },
  {
   "cell_type": "code",
   "execution_count": 7,
   "metadata": {},
   "outputs": [
    {
     "data": {
      "text/plain": [
       "-0.0038253151122978205"
      ]
     },
     "execution_count": 7,
     "metadata": {},
     "output_type": "execute_result"
    }
   ],
   "source": [
    "# также можно сделать проверку и при помощи numpy\n",
    "np.mean(series) #используем встроенную функцию `np.mean()`"
   ]
  },
  {
   "cell_type": "code",
   "execution_count": 8,
   "metadata": {},
   "outputs": [
    {
     "name": "stdout",
     "output_type": "stream",
     "text": [
      "Среднее значение по написанной нам функции: \n",
      "-0.0038253151122978205\n",
      "Среднее значение по встроенной функции mean() в pandas: \n",
      "-0.0038253151122978205\n",
      "Среднее значение по встроенной функции np.mean() в numpy: \n",
      "-0.0038253151122978205\n"
     ]
    }
   ],
   "source": [
    "#выведем сравнение для наглядного понимания итога.\n",
    "print(f'Среднее значение по написанной нам функции: \\n{meanz(series)}')\n",
    "print(f'Среднее значение по встроенной функции mean() в pandas: \\n{series.mean()}')\n",
    "print(f'Среднее значение по встроенной функции np.mean() в numpy: \\n{np.mean(series)}')"
   ]
  },
  {
   "cell_type": "markdown",
   "metadata": {},
   "source": [
    "## Медиана\n",
    "\n",
    "**Медиана** — такое значение $t$, что половина элементов из выборки меньше, либо равна $t$, и, соответственно, половина больше, либо равна $t$.\n",
    "\n",
    "Медиана представляет собой середину выборки: если отсортировать элементы выборки по возрастанию, то медиана приходится на середину.\n",
    "\n",
    "Медиана может приходиться как на промежуток между элементами выборки, так и на конкретный элемент."
   ]
  },
  {
   "cell_type": "code",
   "execution_count": 9,
   "metadata": {},
   "outputs": [],
   "source": [
    "#функция медианы\n",
    "def medianz(series):\n",
    "    series = sorted(series)\n",
    "    if len(series)%2 == 0:\n",
    "        left_idx = len(series)//2 - 1\n",
    "        right_idx = len(series)//2\n",
    "        return (series[left_idx] + series[right_idx])/2\n",
    "    else:\n",
    "        center_idx = len(series)//2\n",
    "        return series[center_idx]"
   ]
  },
  {
   "cell_type": "code",
   "execution_count": 10,
   "metadata": {},
   "outputs": [
    {
     "data": {
      "text/plain": [
       "-0.05067364130081363"
      ]
     },
     "execution_count": 10,
     "metadata": {},
     "output_type": "execute_result"
    }
   ],
   "source": [
    "medianz(series)"
   ]
  },
  {
   "cell_type": "code",
   "execution_count": 11,
   "metadata": {},
   "outputs": [
    {
     "data": {
      "text/plain": [
       "-0.05067364130081363"
      ]
     },
     "execution_count": 11,
     "metadata": {},
     "output_type": "execute_result"
    }
   ],
   "source": [
    "#проверка написанной функции на встроенной .median() в pandas\n",
    "series.median()"
   ]
  },
  {
   "cell_type": "code",
   "execution_count": 12,
   "metadata": {},
   "outputs": [
    {
     "data": {
      "text/plain": [
       "-0.05067364130081363"
      ]
     },
     "execution_count": 12,
     "metadata": {},
     "output_type": "execute_result"
    }
   ],
   "source": [
    "#проверка написанной функции на встроенной .median() в numpy\n",
    "np.median(series)"
   ]
  },
  {
   "cell_type": "code",
   "execution_count": 13,
   "metadata": {},
   "outputs": [
    {
     "name": "stdout",
     "output_type": "stream",
     "text": [
      "Медиана по написанной нам функции: \n",
      "-0.05067364130081363\n",
      "Медиана по встроенной функции mean() в pandas: \n",
      "-0.05067364130081363\n",
      "Медиана по встроенной функции np.mean() в numpy: \n",
      "-0.05067364130081363\n"
     ]
    }
   ],
   "source": [
    "print(f'Медиана по написанной нам функции: \\n{medianz(series)}')\n",
    "print(f'Медиана по встроенной функции mean() в pandas: \\n{series.median()}')\n",
    "print(f'Медиана по встроенной функции np.mean() в numpy: \\n{np.median(series)}')"
   ]
  },
  {
   "cell_type": "markdown",
   "metadata": {},
   "source": [
    "## Стандартное отклонение\n",
    "\n",
    "Пусть $X, X_1,..., X_n$ - выборка.\n",
    "\n",
    "**Стандартное отклонение (Standart Deviation)** (или среднеквадратичное отклонение выборки) оценивается по формуле: $$SD = \\sqrt{\\dfrac{\\sum_{i = 1}^n(X_i - \\overline{X})^2}{n-1}}$$\n",
    " \n",
    "где $\\overline{X}$ - среднее значение выборки. "
   ]
  },
  {
   "cell_type": "code",
   "execution_count": 14,
   "metadata": {},
   "outputs": [],
   "source": [
    "#функция стандартного отклонения\n",
    "def stdz(series):\n",
    "    m = sum(series)/len(series)\n",
    "    summa = 0\n",
    "    for i in series:\n",
    "        summa += (i-m)**2\n",
    "    s = math.sqrt(summa/(len(series)))\n",
    "    return s"
   ]
  },
  {
   "cell_type": "code",
   "execution_count": 15,
   "metadata": {},
   "outputs": [
    {
     "data": {
      "text/plain": [
       "1.0199126289357288"
      ]
     },
     "execution_count": 15,
     "metadata": {},
     "output_type": "execute_result"
    }
   ],
   "source": [
    "stdz(series)"
   ]
  },
  {
   "cell_type": "code",
   "execution_count": 16,
   "metadata": {},
   "outputs": [
    {
     "data": {
      "text/plain": [
       "1.0204229680364343"
      ]
     },
     "execution_count": 16,
     "metadata": {},
     "output_type": "execute_result"
    }
   ],
   "source": [
    "#проверка написанной функции на встроенной .std() в pandas\n",
    "series.std()"
   ]
  },
  {
   "cell_type": "code",
   "execution_count": 17,
   "metadata": {},
   "outputs": [
    {
     "data": {
      "text/plain": [
       "1.0199126289357288"
      ]
     },
     "execution_count": 17,
     "metadata": {},
     "output_type": "execute_result"
    }
   ],
   "source": [
    "#проверка написанной функции на встроенной .median() в numpy\n",
    "np.std(series)"
   ]
  },
  {
   "cell_type": "code",
   "execution_count": 18,
   "metadata": {},
   "outputs": [
    {
     "name": "stdout",
     "output_type": "stream",
     "text": [
      "Стандартное отклонение по написанной нам функции: \n",
      "1.0199126289357288\n",
      "Стандартное отклонение по встроенной функции mean() в pandas: \n",
      "1.0204229680364343\n",
      "Стандартное отклонение по встроенной функции np.mean() в numpy: \n",
      "1.0199126289357288\n"
     ]
    }
   ],
   "source": [
    "print(f'Стандартное отклонение по написанной нам функции: \\n{stdz(series)}')\n",
    "print(f'Стандартное отклонение по встроенной функции mean() в pandas: \\n{series.std()}')\n",
    "print(f'Стандартное отклонение по встроенной функции np.mean() в numpy: \\n{np.std(series)}')"
   ]
  },
  {
   "cell_type": "markdown",
   "metadata": {},
   "source": [
    "## Межквартильный размах"
   ]
  },
  {
   "cell_type": "markdown",
   "metadata": {},
   "source": [
    "Стоит упомянуть, что такое межквартильный размах.\n",
    "\n",
    "**Межквартильный размах** - это разница между первым квартилем (25-й процентиль) и третьим квартилем (75-й процентиль). Как правило, обозначается как $IQR$ и рассчитывается по формуле $Q_3 - Q_1$, \n",
    "\n",
    "где $Q-1$ - это первый квартиль, а $Q_3$ - третий квартиль.\n",
    "\n",
    "Медиана является частным случаем более общего понятия — _квантиля_.\n",
    "\n",
    "Пусть $\\alpha \\in (0, 1)$. __Квантиль порядка $\\alpha$__ — такое число $t_\\alpha$, что «$\\alpha$ процентов» всех элементов выборки меньше $t_\\alpha$ и, соответственно, «$(1 - \\alpha)$ процентов» элементов — больше $t_\\alpha$.\n",
    "\n",
    "Как и в случае с медианой, квантиль может как приходиться на один из элементов выборки, так и лежать где-то между ними.\n",
    "\n",
    "Из определения следует, что медиана является квантилем порядка $0.5$. Кроме того, часто используют:\n",
    "- __первый квартиль__ — квантиль порядка $0.25$ (т.е. значение, которое не превышают $25 \\%$ значений из выборки),\n",
    "-  __второй квартиль__ — то же, что и медиана,\n",
    "-  __третий квартиль__ — квантиль порядка $0.75$.\n",
    "\n",
    "Также могут встречаться:\n",
    "\n",
    "- __децили__ — то же, что и квартили, но делим мы не на $4$ части, а на $10$. Например, медиана будет пятым децилем,\n",
    "- __перцентили__ — это просто другой способ задать квантиль. Здесь мы используем не долю $\\alpha \\in (0, 1)$, а процент. Например, третий квартиль будет $75$-перцентилем.\n",
    "   "
   ]
  },
  {
   "cell_type": "code",
   "execution_count": 19,
   "metadata": {},
   "outputs": [
    {
     "name": "stdout",
     "output_type": "stream",
     "text": [
      "Первый квартиль =  -0.6974040070556624\n",
      "Третий квартиль =  0.719434898554119\n",
      "Межквартильный размах = 1.4168389056097814\n"
     ]
    }
   ],
   "source": [
    "#функция межквартильного размаха\n",
    "def quantile(serie, alpha):\n",
    "    n_serie = sorted(serie)\n",
    "    index = (len(n_serie)-1)*alpha\n",
    "    if index % 10 != 0:\n",
    "        return (n_serie[int(index)]+n_serie[int(index)+1])/2\n",
    "#     if isinstance(index,int):\n",
    "#         return (n_serie[index - 1] + n_serie[index]) / 2\n",
    "    else:\n",
    "        return n_serie[int(index)]\n",
    "quartiles = [quantile(series, i) for i in (.25, .75)]\n",
    "print(\"Первый квартиль = \", quartiles[0])\n",
    "print(\"Третий квартиль = \", quartiles[1])\n",
    "iqr = quartiles[1] - quartiles[0]\n",
    "print(f'Межквартильный размах = {iqr}')"
   ]
  },
  {
   "cell_type": "code",
   "execution_count": 20,
   "metadata": {},
   "outputs": [
    {
     "name": "stdout",
     "output_type": "stream",
     "text": [
      "25% = -0.6974040070556624\n",
      "75% = 0.719434898554119\n",
      "iqr = 1.4168389056097814\n"
     ]
    }
   ],
   "source": [
    "# проверка в numpy при помощи функции .quantile()\n",
    "tf = np.quantile(series, .25, interpolation = 'midpoint') \n",
    "sf = np.quantile(series, .75, interpolation = 'midpoint')\n",
    "IQR = sf - tf\n",
    "print(f'25% = {tf}')\n",
    "print(f'75% = {sf}')\n",
    "print(f'iqr = {IQR}')"
   ]
  },
  {
   "cell_type": "markdown",
   "metadata": {},
   "source": [
    "## 23-й перцентиль\n",
    "\n",
    "Логика остается такая же как и при нахождении квартилей в задании про межквартильный размах, только в данном случае мы будем искать 23-й перцентиль"
   ]
  },
  {
   "cell_type": "code",
   "execution_count": 21,
   "metadata": {},
   "outputs": [
    {
     "name": "stdout",
     "output_type": "stream",
     "text": [
      "Первый квартиль =  -0.7685933645279424\n"
     ]
    }
   ],
   "source": [
    "#функция межквартильного размаха\n",
    "def quantile(serie, alpha):\n",
    "    n_serie = sorted(serie)\n",
    "    index = (len(n_serie)-1)*alpha\n",
    "    if index % 10 != 0:\n",
    "        return (n_serie[int(index)]+n_serie[int(index)+1])/2\n",
    "#     if isinstance(index,int):\n",
    "#         return (n_serie[index - 1] + n_serie[index]) / 2\n",
    "    else:\n",
    "        return n_serie[int(index)]\n",
    "quartiles = quantile(series, 0.23)\n",
    "print(\"Первый квартиль = \", quartiles)"
   ]
  },
  {
   "cell_type": "code",
   "execution_count": 22,
   "metadata": {},
   "outputs": [
    {
     "data": {
      "text/plain": [
       "-0.7685933645279424"
      ]
     },
     "execution_count": 22,
     "metadata": {},
     "output_type": "execute_result"
    }
   ],
   "source": [
    "#проверка\n",
    "qv_23 = np.quantile(series, .23, interpolation = 'midpoint')\n",
    "qv_23"
   ]
  }
 ],
 "metadata": {
  "kernelspec": {
   "display_name": "Python 3 (ipykernel)",
   "language": "python",
   "name": "python3"
  },
  "language_info": {
   "codemirror_mode": {
    "name": "ipython",
    "version": 3
   },
   "file_extension": ".py",
   "mimetype": "text/x-python",
   "name": "python",
   "nbconvert_exporter": "python",
   "pygments_lexer": "ipython3",
   "version": "3.9.12"
  },
  "vscode": {
   "interpreter": {
    "hash": "cad989ee3f04f94608397fd104b208868b1fb1529ce81b128844ca50bb13978f"
   }
  }
 },
 "nbformat": 4,
 "nbformat_minor": 2
}
